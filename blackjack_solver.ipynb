{
 "cells": [
  {
   "cell_type": "code",
   "execution_count": null,
   "id": "a6179aef",
   "metadata": {},
   "outputs": [],
   "source": [
    "from genetic_algorithm import BlackjackGA\n",
    "solver = BlackjackGA(population_size=100, mutation_rate=0.01, generations=100)\n",
    "best_stategy, best_fitness = solver.run()\n",
    "print(f\"Best strategy: {best_stategy}\")\n",
    "print(f\"Best fitness: {best_fitness}\")"
   ]
  },
  {
   "cell_type": "code",
   "execution_count": null,
   "id": "bbfbc656",
   "metadata": {},
   "outputs": [],
   "source": [
    "from cellular_automata import BlackjackCA\n",
    "solver = BlackjackCA(num_generations=100, population_size=100, neighbourhood_size=2)\n",
    "hard, soft, fitenss = solver.optimize_strategy()\n"
   ]
  },
  {
   "cell_type": "code",
   "execution_count": null,
   "id": "71c482d8",
   "metadata": {},
   "outputs": [],
   "source": [
    "from neural_network import train_blackjack_agent, evaluate_agent, generate_strategy_table, plot_strategy\n",
    "\n",
    "# Train the agent\n",
    "agent = train_blackjack_agent(episodes=50000)\n",
    "    \n",
    "# Evaluate the agent\n",
    "wins, draws, losses = evaluate_agent(agent)\n",
    "    \n",
    "# Generate and plot strategy\n",
    "strategy = generate_strategy_table(agent)\n",
    "plot_strategy(strategy)"
   ]
  }
 ],
 "metadata": {
  "kernelspec": {
   "display_name": "Python 3",
   "language": "python",
   "name": "python3"
  },
  "language_info": {
   "codemirror_mode": {
    "name": "ipython",
    "version": 3
   },
   "file_extension": ".py",
   "mimetype": "text/x-python",
   "name": "python",
   "nbconvert_exporter": "python",
   "pygments_lexer": "ipython3",
   "version": "3.10.12"
  }
 },
 "nbformat": 4,
 "nbformat_minor": 5
}
