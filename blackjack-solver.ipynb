{
 "cells": [
  {
   "cell_type": "code",
   "execution_count": 4,
   "metadata": {},
   "outputs": [],
   "source": [
    "import gymnasium as gym\n",
    "import numpy as np\n",
    "env = gym.make('Blackjack-v1', natural=False, sab=False)"
   ]
  },
  {
   "cell_type": "code",
   "execution_count": null,
   "metadata": {},
   "outputs": [
    {
     "name": "stdout",
     "output_type": "stream",
     "text": [
      "(13, 10, 0)\n"
     ]
    }
   ],
   "source": [
    "def create_blackjack_matrices():\n",
    "    actions = [1, 0] # Hit, Stand\n",
    "    \n",
    "    # Hard totals (player total, dealer upcard: 2-10, A)\n",
    "    hard_totals = np.array([[np.random.choice(actions) for _ in range(10)] for _ in range(16)])\n",
    "    \n",
    "    # Soft totals (player total with an Ace, dealer upcard: 2-10, A)\n",
    "    soft_totals = np.array([[np.random.choice(actions) for _ in range(10)] for _ in range(8)])\n",
    "    \n",
    "    return (hard_totals, soft_totals)\n",
    "\n",
    "\n",
    "def get_decision(strategy, player_sum, dealer_upcard, is_soft):\n",
    "\n",
    "    hard_totals, soft_totals = strategy\n",
    "    dealer_idx = dealer_upcard - 2  # Adjust dealer card index to match array indexing\n",
    "    \n",
    "    if is_soft == 1:\n",
    "        return soft_totals[20 - player_sum, dealer_idx]\n",
    "    else:\n",
    "        return hard_totals[20 - player_sum, dealer_idx]  # Adjusted index for hard_totals\n",
    "    \n"
   ]
  },
  {
   "cell_type": "code",
   "execution_count": null,
   "metadata": {},
   "outputs": [],
   "source": [
    "population_size = 50\n",
    "generations = 100\n",
    "mutation_rate = 0.1\n",
    "\n",
    "# Evaluate a strategy by playing multiple games\n",
    "def evaluate_strategy(strategy, episodes=1000):\n",
    "    total_reward = 0\n",
    "    for _ in range(episodes):\n",
    "        obs, _ = env.reset()\n",
    "        done = False\n",
    "        while not done:\n",
    "            player_sum, dealer_card, usable_ace = obs\n",
    "            if dealer_card == 1:\n",
    "                dealer_card = 11\n",
    "            action = get_decision(strategy, player_sum, dealer_card, usable_ace)\n",
    "            obs, reward, done, _, _ = env.step(action)\n",
    "        total_reward += reward\n",
    "    return total_reward / episodes\n",
    "\n",
    "# Selection: Select the top-performing strategies\n",
    "def select_population(population, fitness, num_selected):\n",
    "    selected_indices = np.argsort(fitness)[-num_selected:]\n",
    "    selected_population = [population[i] for i in selected_indices]\n",
    "    return selected_population\n",
    "# Crossover: Combine two parent strategies to create a child strategy\n",
    "def crossover(parent1, parent2):\n",
    "    mask = rng.integers(0, 2, parent1.shape, dtype=bool)\n",
    "    child = np.where(mask, parent1, parent2)\n",
    "    return child\n",
    "# Mutation: Randomly modify parts of a strategy\n",
    "def mutate(strategy, mutation_rate):\n",
    "    mutation_mask = rng.random(strategy.shape) < mutation_rate\n",
    "    strategy[mutation_mask] = 1 - strategy[mutation_mask]\n",
    "    return strategy\n",
    "\n",
    "# Initialize the population\n",
    "population = [create_blackjack_matrices() for _ in range(population_size)]\n",
    "\n",
    "# Run the genetic algorithm\n",
    "for generation in range(generations):\n",
    "    # Evaluate the fitness of each strategy\n",
    "    fitness = [evaluate_strategy(strategy) for strategy in population]\n",
    "    \n",
    "    # Print the best fitness in the current generation\n",
    "    print(f\"Generation {generation + 1}: Best Fitness = {max(fitness)}\")\n",
    "    \n",
    "    # Select the top-performing strategies\n",
    "    num_selected = population_size // 2\n",
    "    selected_population = select_population(population, fitness, num_selected)\n",
    "    \n",
    "    # Create the next generation\n",
    "    next_generation = []\n",
    "    for _ in range(population_size):\n",
    "        parent1, parent2 = np.random.choice(selected_population, 2, replace=False)\n",
    "        child = crossover(parent1, parent2)\n",
    "        child = mutate(child, mutation_rate)\n",
    "        next_generation.append(child)\n",
    "    \n",
    "    population = next_generation\n",
    "\n",
    "# Evaluate the best strategy\n",
    "best_strategy = population[np.argmax(fitness)]\n",
    "final_fitness = evaluate_strategy(best_strategy, episodes=10000)\n",
    "print(f\"Final Best Strategy Fitness: {final_fitness}\")"
   ]
  }
 ],
 "metadata": {
  "kernelspec": {
   "display_name": "Python 3",
   "language": "python",
   "name": "python3"
  },
  "language_info": {
   "codemirror_mode": {
    "name": "ipython",
    "version": 3
   },
   "file_extension": ".py",
   "mimetype": "text/x-python",
   "name": "python",
   "nbconvert_exporter": "python",
   "pygments_lexer": "ipython3",
   "version": "3.10.12"
  }
 },
 "nbformat": 4,
 "nbformat_minor": 2
}
