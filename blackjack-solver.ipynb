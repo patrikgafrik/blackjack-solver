{
 "cells": [
  {
   "cell_type": "code",
   "execution_count": 97,
   "metadata": {},
   "outputs": [],
   "source": [
    "import gymnasium as gym\n",
    "import numpy as np\n",
    "env = gym.make('Blackjack-v1', natural=False, sab=False)"
   ]
  },
  {
   "cell_type": "code",
   "execution_count": 98,
   "metadata": {},
   "outputs": [],
   "source": [
    "def create_blackjack_matrices():\n",
    "    actions = [1, 0] # Hit, Stand\n",
    "    \n",
    "    # Hard totals (player total, dealer upcard: 2-10, A)\n",
    "    hard_totals = np.array([[np.random.choice(actions) for _ in range(10)] for _ in range(17)])\n",
    "    \n",
    "    # Soft totals (player total with an Ace, dealer upcard: 2-10, A)\n",
    "    soft_totals = np.array([[np.random.choice(actions) for _ in range(10)] for _ in range(8)])\n",
    "    \n",
    "    return (hard_totals, soft_totals)"
   ]
  },
  {
   "cell_type": "code",
   "execution_count": 99,
   "metadata": {},
   "outputs": [],
   "source": [
    "def get_decision(strategy, player_sum, dealer_upcard, is_soft):\n",
    "    hard_totals, soft_totals = strategy\n",
    "    dealer_idx = dealer_upcard - 2  # Adjust dealer card index to match array indexing\n",
    "    \n",
    "    if is_soft == 1:\n",
    "        row_index = max(0, min(20 - player_sum, soft_totals.shape[0] - 1))\n",
    "        return soft_totals[row_index, dealer_idx]\n",
    "    else:\n",
    "        row_index = max(0, min(20 - player_sum, hard_totals.shape[0] - 1))\n",
    "        return hard_totals[row_index, dealer_idx]  # Adjusted index for hard_totals\n"
   ]
  },
  {
   "cell_type": "code",
   "execution_count": 100,
   "metadata": {},
   "outputs": [],
   "source": [
    "# Evaluate a strategy by playing multiple games\n",
    "def evaluate_strategy(strategy, episodes=50000):\n",
    "    total_reward = 0\n",
    "    for _ in range(episodes):\n",
    "        obs, _ = env.reset()\n",
    "        done = False\n",
    "        while not done:\n",
    "            player_sum, dealer_card, usable_ace = obs\n",
    "            if dealer_card == 1:\n",
    "                dealer_card = 11\n",
    "            action = get_decision(strategy, player_sum, dealer_card, usable_ace)\n",
    "            obs, reward, done, _, _ = env.step(action)\n",
    "        total_reward += reward\n",
    "    return total_reward / episodes"
   ]
  },
  {
   "cell_type": "code",
   "execution_count": 101,
   "metadata": {},
   "outputs": [],
   "source": [
    "# Selection: Select the top-performing strategies\n",
    "def select_population(population, fitness, num_selected):\n",
    "    selected_indices = np.argsort(fitness)[-num_selected:]\n",
    "    selected_population = [population[i] for i in selected_indices]\n",
    "    return np.array(selected_population, dtype=object)"
   ]
  },
  {
   "cell_type": "code",
   "execution_count": 102,
   "metadata": {},
   "outputs": [],
   "source": [
    "# Crossover: Combine two parent strategies to create a child strategy\n",
    "def crossover(parent1, parent2):\n",
    "    rng = np.random.default_rng(420)\n",
    "    mask = rng.integers(0, 2, parent1.shape, dtype=bool)\n",
    "    child = np.where(mask, parent1, parent2)\n",
    "    return child"
   ]
  },
  {
   "cell_type": "code",
   "execution_count": 103,
   "metadata": {},
   "outputs": [],
   "source": [
    "# Mutation: Randomly modify parts of a strategy\n",
    "def mutate(strategy, mutation_rate):\n",
    "    rng = np.random.default_rng(420)\n",
    "    mutation_mask = rng.random(strategy.shape) < mutation_rate\n",
    "    strategy[mutation_mask] = 1 - strategy[mutation_mask]\n",
    "    return strategy"
   ]
  },
  {
   "cell_type": "code",
   "execution_count": null,
   "metadata": {},
   "outputs": [
    {
     "name": "stdout",
     "output_type": "stream",
     "text": [
      "Generation 1: Best Fitness = -0.25718\n",
      "Final Best Strategy:\n",
      "[array([[0, 0, 1, 1, 0, 0, 1, 1, 0, 0],\n",
      "        [1, 1, 1, 0, 0, 0, 0, 1, 0, 0],\n",
      "        [0, 1, 1, 1, 0, 1, 0, 0, 1, 1],\n",
      "        [0, 0, 1, 1, 1, 1, 1, 0, 0, 0],\n",
      "        [0, 0, 0, 0, 0, 1, 0, 0, 0, 1],\n",
      "        [1, 1, 0, 1, 0, 1, 0, 1, 1, 0],\n",
      "        [1, 1, 1, 0, 1, 1, 0, 0, 0, 1],\n",
      "        [0, 1, 1, 0, 0, 0, 0, 0, 0, 0],\n",
      "        [1, 1, 1, 1, 0, 0, 1, 1, 1, 1],\n",
      "        [1, 1, 1, 1, 0, 1, 0, 1, 1, 1],\n",
      "        [1, 1, 1, 0, 0, 1, 0, 1, 0, 1],\n",
      "        [0, 0, 0, 0, 0, 0, 0, 1, 0, 1],\n",
      "        [0, 0, 1, 1, 1, 0, 1, 1, 0, 0],\n",
      "        [0, 1, 0, 0, 1, 0, 1, 0, 0, 0],\n",
      "        [1, 1, 0, 0, 1, 0, 1, 0, 1, 0],\n",
      "        [1, 0, 1, 1, 0, 1, 1, 1, 0, 0],\n",
      "        [0, 1, 0, 1, 0, 0, 0, 0, 1, 1]])\n",
      " array([[0, 1, 0, 1, 1, 0, 1, 0, 1, 0],\n",
      "        [0, 1, 0, 1, 1, 1, 0, 1, 0, 0],\n",
      "        [1, 0, 0, 0, 0, 1, 0, 1, 0, 1],\n",
      "        [0, 0, 0, 1, 1, 1, 1, 1, 1, 1],\n",
      "        [1, 0, 1, 1, 1, 1, 1, 0, 1, 1],\n",
      "        [1, 1, 0, 0, 1, 1, 0, 1, 1, 1],\n",
      "        [1, 0, 1, 1, 0, 0, 1, 1, 1, 1],\n",
      "        [0, 0, 0, 1, 1, 0, 0, 1, 0, 0]])]\n",
      "Final Best Strategy Fitness: -0.3494\n"
     ]
    }
   ],
   "source": [
    "population_size = 50\n",
    "generations = 1\n",
    "mutation_rate = 0.01\n",
    "\n",
    "# Initialize the population\n",
    "population = [create_blackjack_matrices() for _ in range(population_size)]\n",
    "\n",
    "# Run the genetic algorithm\n",
    "for generation in range(generations):\n",
    "    # Evaluate the fitness of each strategy\n",
    "    fitness = [evaluate_strategy(strategy) for strategy in population]\n",
    "    \n",
    "    # Print the best fitness in the current generation\n",
    "    print(f\"Generation {generation + 1}: Best Fitness = {max(fitness)}\")\n",
    "    \n",
    "    # Select the top-performing strategies\n",
    "    num_selected = len(population) // 2\n",
    "    selected_population = select_population(population, fitness, num_selected)\n",
    "    # Create the next generation\n",
    "    next_generation = []\n",
    "    for _ in range(population_size):\n",
    "        parent1_idx, parent2_idx = rng.integers(0, selected_population.shape[0], size=2)\n",
    "        parent1, parent2 = selected_population[parent1_idx], selected_population[parent2_idx]\n",
    "        child = crossover(parent1, parent2)\n",
    "        child = mutate(child, mutation_rate)\n",
    "        next_generation.append(child)\n",
    "    \n",
    "    population = next_generation\n",
    "\n",
    "# Evaluate the best strategy\n",
    "best_strategy = population[np.argmax(fitness)]\n",
    "final_fitness = evaluate_strategy(best_strategy, episodes=50000)\n",
    "print(\"Final Best Strategy:\")\n",
    "print(best_strategy)\n",
    "print(f\"Final Best Strategy Fitness: {final_fitness}\")"
   ]
  }
 ],
 "metadata": {
  "kernelspec": {
   "display_name": "Python 3",
   "language": "python",
   "name": "python3"
  },
  "language_info": {
   "codemirror_mode": {
    "name": "ipython",
    "version": 3
   },
   "file_extension": ".py",
   "mimetype": "text/x-python",
   "name": "python",
   "nbconvert_exporter": "python",
   "pygments_lexer": "ipython3",
   "version": "3.10.12"
  }
 },
 "nbformat": 4,
 "nbformat_minor": 2
}
